{
 "cells": [
  {
   "cell_type": "markdown",
   "metadata": {},
   "source": [
    "Project Description: \n",
    "It takes random rgb traffic light photos that are taken at a diverse conditions-time of the day, angle, type of the traffic light, brightness, weather, etc. \n",
    " Then it returns whether it is a red light or yellow light, or green light.\n"
       ]
  },

  "cells": [
  {
   "cell_type": "markdown",
   "metadata": {},
   "source": [
    "# Traffic Light Classifier\n",
    "---\n",
    "\n",
    "In this project, you’ll use your knowledge of computer vision techniques to build a classifier for images of traffic lights! You'll be given a dataset of traffic light images in which one of three lights is illuminated: red, yellow, or green.\n",
    "\n",
    "In this notebook, you'll pre-process these images, extract features that will help us distinguish the different types of images, and use those features to classify the traffic light images into three classes: red, yellow, or green. The tasks will be broken down into a few sections:\n",
    "\n",
    "1. **Loading and visualizing the data**. \n",
    "      The first step in any classification task is to be familiar with your data; you'll need to load in the images of traffic lights and visualize them!\n",
    "\n",
    "2. **Pre-processing**. \n",
    "    The input images and output labels need to be standardized. This way, you can analyze all the input images using the same classification pipeline, and you know what output to expect when you eventually classify a *new* image.\n",
    "    \n",
    "3. **Feature extraction**. \n",
    "    Next, you'll extract some features from each image that will help distinguish and eventually classify these images.\n",
    "   \n",
    "4. **Classification and visualizing error**. \n",
    "    Finally, you'll write one function that uses your features to classify *any* traffic light image. This function will take in an image and output a label. You'll also be given code to determine the accuracy of your classification model.    \n",
    "    \n",
    "5. **Evaluate your model**.\n",
    "    To pass this project, your classifier must be >90% accurate and never classify any red lights as green; it's likely that you'll need to improve the accuracy of your classifier by changing existing features or adding new features. I'd also encourage you to try to get as close to 100% accuracy as possible!\n",
    "    \n",
    "Here are some sample images from the dataset (from left to right: red, green, and yellow traffic lights):\n",
    "<img src=\"images/all_lights.png\" width=\"50%\" height=\"50%\">\n"
   ]
  },
  {
   "cell_type": "markdown",
   "metadata": {},
   "source": [
    "---\n",
    "### *Here's what you need to know to complete the project:*\n",
    "\n",
    "Some template code has already been provided for you, but you'll need to implement additional code steps to successfully complete this project. Any code that is required to pass this project is marked with **'(IMPLEMENTATION)'** in the header. There are also a couple of questions about your thoughts as you work through this project, which are marked with **'(QUESTION)'** in the header. Make sure to answer all questions and to check your work against the [project rubric](https://review.udacity.com/#!/rubrics/1213/view) to make sure you complete the necessary classification steps!\n",
    "\n",
    "Your project submission will be evaluated based on the code implementations you provide, and on two main classification criteria.\n",
    "Your complete traffic light classifier should have:\n",
    "1. **Greater than 90% accuracy**\n",
    "2. ***Never* classify red lights as green**\n"
   ]
  },
  {
   "cell_type": "markdown",
   "metadata": {},
   "source": [
    "# 1. Loading and Visualizing the Traffic Light Dataset\n",
    "\n",
    "This traffic light dataset consists of 1484 number of color images in 3 categories - red, yellow, and green. As with most human-sourced data, the data is not evenly distributed among the types. There are:\n",
    "* 904 red traffic light images\n",
    "* 536 green traffic light images\n",
    "* 44 yellow traffic light images\n",
    "\n",
    "*Note: All images come from this [MIT self-driving car course](https://selfdrivingcars.mit.edu/) and are licensed under a [Creative Commons Attribution-ShareAlike 4.0 International License](https://creativecommons.org/licenses/by-sa/4.0/).*"
   ]
  },
  {
   "cell_type": "markdown",
   "metadata": {},
   "source": [
    "### Import resources\n",
    "\n",
    "Before you get started on the project code, import the libraries and resources that you'll need."
   ]
  },
  {
   "cell_type": "code",
   "execution_count": null,
   "metadata": {},
   "outputs": [],
   "source": [
    "# import cv2 # computer vision library\n",
    "import helpers # helper functions\n",
    "\n",
    "import random\n",
    "import numpy as np\n",
    "import matplotlib.pyplot as plt\n",
    "import matplotlib.image as mpimg # for loading in images\n",
    "\n",
    "%matplotlib inline"
   ]
  },
  {
   "cell_type": "markdown",
   "metadata": {},
   "source": [
    "## Training and Testing Data\n",
    "\n",
    "All 1484 of the traffic light images are separated into training and testing datasets. \n",
    "\n",
    "* 80% of these images are training images, for you to use as you create a classifier.\n",
    "* 20% are test images, which will be used to test the accuracy of your classifier.\n",
    "* All images are pictures of 3-light traffic lights with one light illuminated.\n",
    "\n",
    "## Define the image directories\n",
    "\n",
    "First, we set some variables to keep track of some where our images are stored:\n",
    "\n",
    "    IMAGE_DIR_TRAINING: the directory where our training image data is stored\n",
    "    IMAGE_DIR_TEST: the directory where our test image data is stored"
   ]
  },
  {
   "cell_type": "code",
   "execution_count": 90,
   "metadata": {},
   "outputs": [],
   "source": [
    "# Image data directories\n",
    "IMAGE_DIR_TRAINING = \"traffic_light_images/training/\"\n",
    "IMAGE_DIR_TEST = \"traffic_light_images/test/\""
   ]
  },
  {
   "cell_type": "markdown",
   "metadata": {},
   "source": [
    "## Load the datasets\n",
    "\n",
    "These first few lines of code will load the training traffic light images and store all of them in a variable, `IMAGE_LIST`. This list contains the images and their associated label (\"red\", \"yellow\", \"green\"). \n",
    "\n",
    "You are encouraged to take a look at the `load_dataset` function in the helpers.py file. This will give you a good idea about how lots of image files can be read in from a directory using the [glob library](https://pymotw.com/2/glob/). The `load_dataset` function takes in the name of an image directory and returns a list of images and their associated labels. \n",
    "\n",
    "For example, the first image-label pair in `IMAGE_LIST` can be accessed by index: \n",
    "``` IMAGE_LIST[0][:]```.\n"
   ]
  },
  {
   "cell_type": "code",
   "execution_count": 3,
   "metadata": {},
   "outputs": [],
   "source": [
    "# Using the load_dataset function in helpers.py\n",
    "# Load training data\n",
    "IMAGE_LIST = helpers.load_dataset(IMAGE_DIR_TRAINING)\n"
   ]
  },
  {
   "cell_type": "markdown",
   "metadata": {},
   "source": [
    "## Visualize the Data\n",
    "\n",
    "The first steps in analyzing any dataset are to 1. load the data and 2. look at the data. Seeing what it looks like will give you an idea of what to look for in the images, what kind of noise or inconsistencies you have to deal with, and so on. This will help you understand the image dataset, and **understanding a dataset is part of making predictions about the data**."
   ]
  },
  {
   "cell_type": "markdown",
   "metadata": {},
   "source": [
    "---\n",
    "### Visualize the input images\n",
    "\n",
    "Visualize and explore the image data! Write code to display an image in `IMAGE_LIST`:\n",
    "* Display the image\n",
    "* Print out the shape of the image \n",
    "* Print out its corresponding label\n",
    "\n",
    "See if you can display at least one of each type of traffic light image – red, green, and yellow — and look at their similarities and differences."
   ]
  },
  {
   "cell_type": "code",
   "execution_count": 4,
   "metadata": {},
   "outputs": [
    {
     "name": "stdout",
     "output_type": "stream",
     "text": [
      "(42, 23, 3)\n",
      "yellow\n"
     ]
    },
    {
     "data": {
      "text/plain": [
       "'\\nfor i in range(len(IMAGE_LIST)):\\n    if IMAGE_LIST[i][1] == \"yellow\":\\n        print(i)\\n        break\\n'"
      ]
     },
     "execution_count": 4,
     "metadata": {},
     "output_type": "execute_result"
    },
    {
     "data": {
      "image/png": "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\n",
      "text/plain": [
       "<matplotlib.figure.Figure at 0x7f5821626a20>"
      ]
     },
     "metadata": {
      "needs_background": "light"
     },
     "output_type": "display_data"
    }
   ],
   "source": [
    "## TODO: Write code to display an image in IMAGE_LIST (try finding a yellow traffic light!)\n",
    "## TODO: Print out 1. The shape of the image and 2. The image's label\n",
    "\n",
    "# The first image in IMAGE_LIST is displayed below (without information about shape or label)\n",
    "selected_image = IMAGE_LIST[723][0]\n",
    "plt.imshow(selected_image)\n",
    "print(selected_image.shape)\n",
    "print(IMAGE_LIST[723][1])\n",
    "\n",
    "'''\n",
    "for i in range(len(IMAGE_LIST)):\n",
    "    if IMAGE_LIST[i][1] == \"yellow\":\n",
    "        print(i)\n",
    "        break\n",
    "'''"
   ]
  },
  {
   "cell_type": "markdown",
   "metadata": {},
   "source": [
    "# 2. Pre-process the Data\n",
    "\n",
    "After loading in each image, you have to standardize the input and output!\n",
    "\n",
    "### Input\n",
    "\n",
    "This means that every input image should be in the same format, of the same size, and so on. We'll be creating features by performing the same analysis on every picture, and for a classification task like this, it's important that **similar images create similar features**! \n",
    "\n",
    "### Output\n",
    "\n",
    "We also need the output to be a label that is easy to read and easy to compare with other labels. It is good practice to convert categorical data like \"red\" and \"green\" to numerical data.\n",
    "\n",
    "A very common classification output is a 1D list that is the length of the number of classes - three in the case of red, yellow, and green lights - with the values 0 or 1 indicating which class a certain image is. For example, since we have three classes (red, yellow, and green), we can make a list with the order: [red value, yellow value, green value]. In general, order does not matter, we choose the order [red value, yellow value, green value] in this case to reflect the position of each light in descending vertical order.\n",
    "\n",
    "A red light should have the  label: [1, 0, 0]. Yellow should be: [0, 1, 0]. Green should be: [0, 0, 1]. These labels are called **one-hot encoded labels**.\n",
    "\n",
    "*(Note: one-hot encoding will be especially important when you work with [machine learning algorithms](https://machinelearningmastery.com/how-to-one-hot-encode-sequence-data-in-python/)).*\n",
    "\n",
    "<img src=\"images/processing_steps.png\" width=\"80%\" height=\"80%\">\n"
   ]
  },
  {
   "cell_type": "markdown",
   "metadata": {},
   "source": [
    "---\n",
    "<a id='task2'></a>\n",
    "### (IMPLEMENTATION): Standardize the input images\n",
    "\n",
    "* Resize each image to the desired input size: 32x32px.\n",
    "* (Optional) You may choose to crop, shift, or rotate the images in this step as well.\n",
    "\n",
    "It's very common to have square input sizes that can be rotated (and remain the same size), and analyzed in smaller, square patches. It's also important to make all your images the same size so that they can be sent through the same pipeline of classification steps!"
   ]
  },
  {
   "cell_type": "code",
   "execution_count": 6,
   "metadata": {},
   "outputs": [],
   "source": [
    "# This function should take in an RGB image and return a new, standardized version (32x32px.)\n",
    "def standardize_input(image):\n",
    "    \n",
    "    #Rersize it \n",
    "    standard_im = np.copy(image)\n",
    "    standard_im = cv2.resize(image, (32, 32))\n",
    "    \n",
    "    #Crop out the non necessary part.\n",
    "    cropped = standard_im.copy()\n",
    "    crop_H=5\n",
    "    crop_V=5\n",
    "    cropped=cropped[crop_V:-crop_V, crop_H:-crop_H, :]\n",
    "    \n",
    "    return cropped\n",
    "    "
   ]
  },
  {
   "cell_type": "markdown",
   "metadata": {},
   "source": [
    "## Standardize the output\n",
    "\n",
    "With each loaded image, we also specify the expected output. For this, we use **one-hot encoding**.\n",
    "\n",
    "* One-hot encode the labels. To do this, create an array of zeros representing each class of traffic light (red, yellow, green), and set the index of the expected class number to 1. \n",
    "\n",
    "Since we have three classes (red, yellow, and green), we have imposed an order of: [red value, yellow value, green value]. To one-hot encode, say, a yellow light, we would first initialize an array to [0, 0, 0] and change the middle value (the yellow value) to 1: [0, 1, 0].\n"
   ]
  },
  {
   "cell_type": "markdown",
   "metadata": {},
   "source": [
    "---\n",
    "<a id='task3'></a>\n",
    "### (IMPLEMENTATION): Implement one-hot encoding"
   ]
  },
  {
   "cell_type": "code",
   "execution_count": 7,
   "metadata": {},
   "outputs": [],
   "source": [
    "## TODO: One hot encode an image label\n",
    "## Given a label - \"red\", \"green\", or \"yellow\" - return a one-hot encoded label\n",
    "\n",
    "# Examples: \n",
    "# one_hot_encode(\"red\") should return: [1, 0, 0]\n",
    "# one_hot_encode(\"yellow\") should return: [0, 1, 0]\n",
    "# one_hot_encode(\"green\") should return: [0, 0, 1]\n",
    "\n",
    "def one_hot_encode(label):\n",
    "    \n",
    "    ## TODO: Create a one-hot encoded label that works for all classes of traffic lights\n",
    "    one_hot_encoded = [] \n",
    "    if label ==\"red\":\n",
    "        one_hot_encoded = [1, 0, 0]\n",
    "    elif label ==\"yellow\":\n",
    "        one_hot_encoded = [0, 1, 0]\n",
    "    else:\n",
    "        one_hot_encoded = [0, 0, 1]\n",
    "        \n",
    "    return one_hot_encoded\n"
   ]
  },
  {
   "cell_type": "markdown",
   "metadata": {},
   "source": [
    "### Testing as you Code\n",
    "\n",
    "After programming a function like this, it's a good idea to test it, and see if it produces the expected output. **In general, it's good practice to test code in small, functional pieces, after you write it**. This way, you can make sure that your code is correct as you continue to build a classifier, and you can identify any errors early on so that they don't compound.\n",
    "\n",
    "All test code can be found in the file `test_functions.py`. You are encouraged to look through that code and add your own testing code if you find it useful!\n",
    "\n",
    "One test function you'll find is: `test_one_hot(self, one_hot_function)` which takes in one argument, a one_hot_encode function, and tests its functionality. If your one_hot_label code does not work as expected, this test will print ot an error message that will tell you a bit about why your code failed. Once your code works, this should print out TEST PASSED."
   ]
  },
  {
   "cell_type": "code",
   "execution_count": 8,
   "metadata": {},
   "outputs": [
    {
     "data": {
      "text/markdown": [
       "**<span style=\"color: green;\">TEST PASSED</span>**"
      ],
      "text/plain": [
       "<IPython.core.display.Markdown object>"
      ]
     },
     "metadata": {},
     "output_type": "display_data"
    }
   ],
   "source": [
    "# Importing the tests\n",
    "import test_functions\n",
    "tests = test_functions.Tests()\n",
    "\n",
    "# Test for one_hot_encode function\n",
    "tests.test_one_hot(one_hot_encode)\n"
   ]
  },
  {
   "cell_type": "markdown",
   "metadata": {},
   "source": [
    "## Construct a `STANDARDIZED_LIST` of input images and output labels.\n",
    "\n",
    "This function takes in a list of image-label pairs and outputs a **standardized** list of resized images and one-hot encoded labels.\n",
    "\n",
    "This uses the functions you defined above to standardize the input and output, so those functions must be complete for this standardization to work!\n"
   ]
  },
  {
   "cell_type": "code",
   "execution_count": 9,
   "metadata": {},
   "outputs": [],
   "source": [
    "def standardize(image_list):\n",
    "    \n",
    "    # Empty image data array\n",
    "    standard_list = []\n",
    "\n",
    "    # Iterate through all the image-label pairs\n",
    "    for item in image_list:\n",
    "        image = item[0]\n",
    "        label = item[1]\n",
    "\n",
    "        # Standardize the image\n",
    "        standardized_im = standardize_input(image)\n",
    "\n",
    "        # One-hot encode the label\n",
    "        one_hot_label = one_hot_encode(label)    \n",
    "\n",
    "        # Append the image, and it's one hot encoded label to the full, processed list of image data \n",
    "        standard_list.append((standardized_im, one_hot_label))\n",
    "        \n",
    "    return standard_list\n",
    "\n",
    "# Standardize all training images\n",
    "STANDARDIZED_LIST = standardize(IMAGE_LIST)"
   ]
  },
  {
   "cell_type": "markdown",
   "metadata": {},
   "source": [
    "## Visualize the standardized data\n",
    "\n",
    "Display a standardized image from STANDARDIZED_LIST and compare it with a non-standardized image from IMAGE_LIST. Note that their sizes and appearance are different!"
   ]
  },
  {
   "cell_type": "code",
   "execution_count": 10,
   "metadata": {},
   "outputs": [
    {
     "name": "stdout",
     "output_type": "stream",
     "text": [
      "[0, 1, 0]\n"
     ]
    },
    {
     "data": {
      "image/png": "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\n",
      "text/plain": [
       "<matplotlib.figure.Figure at 0x7f581f573940>"
      ]
     },
     "metadata": {
      "needs_background": "light"
     },
     "output_type": "display_data"
    }
   ],
   "source": [
    "## TODO: Display a standardized image and its label\n",
    "n=723\n",
    "plt.imshow(STANDARDIZED_LIST[n][0])\n",
    "print(STANDARDIZED_LIST[n][1])"
   ]
  },
  {
   "cell_type": "markdown",
   "metadata": {},
   "source": [
    "# 3. Feature Extraction\n",
    "\n",
    "You'll be using what you now about color spaces, shape analysis, and feature construction to create features that help distinguish and classify the three types of traffic light images.\n",
    "\n",
    "You'll be tasked with creating **one feature** at a minimum (with the option to create more). The required feature is **a brightness feature using HSV color space**:\n",
    "\n",
    "1. A brightness feature.\n",
    "    - Using HSV color space, create a feature that helps you identify the 3 different classes of traffic light.\n",
    "    - You'll be asked some questions about what methods you tried to locate this traffic light, so, as you progress through this notebook, always be thinking about your approach: what works and what doesn't?\n",
    "\n",
    "2. (Optional): Create more features! \n",
    "\n",
    "Any more features that you create are up to you and should improve the accuracy of your traffic light classification algorithm! One thing to note is that, to pass this project you must **never classify a red light as a green light** because this creates a serious safety risk for a self-driving car. To avoid this misclassification, you might consider adding another feature that specifically distinguishes between red and green lights.\n",
    "\n",
    "These features will be combined near the end of his notebook to form a complete classification algorithm."
   ]
  },
  {
   "cell_type": "markdown",
   "metadata": {},
   "source": [
    "## Creating a brightness feature \n",
    "\n",
    "There are a number of ways to create a brightness feature that will help you characterize images of traffic lights, and it will be up to you to decide on the best procedure to complete this step. You should visualize and test your code as you go.\n",
    "\n",
    "Pictured below is a sample pipeline for creating a brightness feature (from left to right: standardized image, HSV color-masked image, cropped image, brightness feature):\n",
    "\n",
    "<img src=\"images/feature_ext_steps.png\" width=\"70%\" height=\"70%\">\n"
   ]
  },
  {
   "cell_type": "markdown",
   "metadata": {},
   "source": [
    "## RGB to HSV conversion\n",
    "\n",
    "Below, a test image is converted from RGB to HSV colorspace and each component is displayed in an image."
   ]
  },
  {
   "cell_type": "code",
   "execution_count": 11,
   "metadata": {},
   "outputs": [
    {
     "name": "stdout",
     "output_type": "stream",
     "text": [
      "Label [red, yellow, green]: [1, 0, 0]\n"
     ]
    },
    {
     "data": {
      "text/plain": [
       "<matplotlib.image.AxesImage at 0x7f581f3f23c8>"
      ]
     },
     "execution_count": 11,
     "metadata": {},
     "output_type": "execute_result"
    },
    {
     "data": {
      "image/png": "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\n",
      "text/plain": [
       "<matplotlib.figure.Figure at 0x7f581f4bfd30>"
      ]
     },
     "metadata": {
      "needs_background": "light"
     },
     "output_type": "display_data"
    }
   ],
   "source": [
    "# Convert and image to HSV colorspace\n",
    "# Visualize the individual color channels\n",
    "\n",
    "image_num = 10\n",
    "test_im = STANDARDIZED_LIST[image_num][0]\n",
    "test_label = STANDARDIZED_LIST[image_num][1]\n",
    "\n",
    "# Convert to HSV\n",
    "hsv = cv2.cvtColor(test_im, cv2.COLOR_RGB2HSV)\n",
    "\n",
    "# Print image label\n",
    "print('Label [red, yellow, green]: ' + str(test_label))\n",
    "\n",
    "# HSV channels\n",
    "h = hsv[:,:,0]\n",
    "s = hsv[:,:,1]\n",
    "v = hsv[:,:,2]\n",
    "\n",
    "# Plot the original image and the three channels\n",
    "f, (ax1, ax2, ax3, ax4) = plt.subplots(1, 4, figsize=(20,10))\n",
    "ax1.set_title('Standardized image')\n",
    "ax1.imshow(test_im)\n",
    "ax2.set_title('H channel')\n",
    "ax2.imshow(h, cmap='gray')\n",
    "ax3.set_title('S channel')\n",
    "ax3.imshow(s, cmap='gray')\n",
    "ax4.set_title('V channel')\n",
    "ax4.imshow(v, cmap='gray')\n"
   ]
  },
  {
   "cell_type": "markdown",
   "metadata": {},
   "source": [
    "---\n",
    "<a id='task7'></a>\n",
    "### (IMPLEMENTATION): Create a brightness feature that uses HSV color space\n",
    "\n",
    "Write a function that takes in an RGB image and returns a 1D feature vector and/or single value that will help classify an image of a traffic light. The only requirement is that this function should apply an HSV colorspace transformation, the rest is up to you. \n",
    "\n",
    "From this feature, you should be able to estimate an image's label and classify it as either a red, green, or yellow traffic light. You may also define helper functions if they simplify your code."
   ]
  },
  {
   "cell_type": "code",
   "execution_count": 79,
   "metadata": {},
   "outputs": [],
   "source": [
    "## TODO: Create a brightness feature that takes in an RGB image and outputs a feature vector and/or value\n",
    "## This feature should use HSV colorspace values\n",
    "\n",
    "\n",
    "def create_feature(rgb_image): \n",
    "    #Define default feature to red to be safe\n",
    "    feature=\"red\"\n",
    "    #1. mask the image and remove traffic light box\n",
    "    # TODO: Convert image to HSV color space\n",
    "    hsv = cv2.cvtColor(rgb_image, cv2.COLOR_RGB2HSV)\n",
    "    v = hsv[:,:,2]\n",
    "    masked_image = remove_traffic_box(rgb_image,v)\n",
    "    #plt.imshow(masked_image)\n",
    "    \n",
    "    #3. Check the filter and label the feature\n",
    "    feature = check_location(masked_image)\n",
    "    \n",
    "    #4. If the image is not masked for some reason, say it's a red light\n",
    "    if not_masked(masked_image):\n",
    "        feature=\"red\"\n",
    "    '''\n",
    "    #2. crop the image\n",
    "    # TODO: Convert image to HSV color space\n",
    "    masked_hsv = cv2.cvtColor(masked_image, cv2.COLOR_RGB2HSV)\n",
    "    masked_v = masked_hsv[:,:,2]\n",
    "    cropped=crop_that_image(masked_image,masked_v)\n",
    "    plt.imshow(cropped)\n",
    "    \n",
    "    #If the traffic light box was not detected, just return red light\n",
    "    h, w, c = cropped.shape\n",
    "    if h==0 or w==0:\n",
    "        return feature\n",
    "    \n",
    "    #3. Apply the filter\n",
    "    cropped_hsv = cv2.cvtColor(cropped, cv2.COLOR_RGB2HSV)\n",
    "    cropped_v = cropped_hsv[:,:,2]\n",
    "    #feature = check_location(cropped,cropped_v)\n",
    "    '''\n",
    "    \n",
    "    '''\n",
    "        if check_location(cropped,cropped_v)in check_color(cropped):\n",
    "            feature = check_location(cropped,cropped_v)\n",
    "    else:\n",
    "        if check_location(cropped,cropped_v)in check_color(cropped):\n",
    "            feature = check_location(cropped,cropped_v)\n",
    "    '''        \n",
    "    return feature\n",
    "\n",
    "#create_feature(STANDARDIZED_LIST[10][0])"
   ]
  },
  {
   "cell_type": "markdown",
   "metadata": {
    "collapsed": true
   },
   "source": [
    "## (Optional) Create more features to help accurately label the traffic light images"
   ]
  },
  {
   "cell_type": "code",
   "execution_count": 91,
   "metadata": {},
   "outputs": [],
   "source": [
    "def remove_traffic_box(rgb_image,v):\n",
    "    #Convert rgb into hsv\n",
    "    \n",
    "    #Set the range for the value filter\n",
    "    lower_v = np.array([170]) \n",
    "    upper_v = np.array([255])\n",
    "\n",
    "    # Define the masked area\n",
    "    mask = cv2.inRange(v, lower_v, upper_v)\n",
    "\n",
    "    masked_image = np.copy(rgb_image)\n",
    "    masked_image[mask == 0] = [0]\n",
    "    \n",
    "    return masked_image\n",
    "    \n",
    "\n",
    "def check_location(rgb_image):\n",
    "    #Set the default color to red to be safe\n",
    "    color=\"red\"\n",
    "    height=len(rgb_image)\n",
    "    width=len(rgb_image[0])\n",
    "    \n",
    "    # Make a copy of the image to manipulate\n",
    "    img = np.copy(rgb_image)\n",
    "    upper=img[0:int(height/3), :, :]\n",
    "    mid=img[int(height/3):int(height*2/3), :, :]\n",
    "    lower=img[int(height*2/3):height, :, :]\n",
    "    \n",
    "    maxL=max(count_lighted_box(upper),count_lighted_box(mid),count_lighted_box(lower))\n",
    "    if count_lighted_box(mid) == maxL:\n",
    "        color=\"yellow\"\n",
    "    elif count_lighted_box(lower) == maxL:\n",
    "        color=\"green\"\n",
    "        \n",
    "    return color\n",
    "\n",
    "\n",
    "def count_lighted_box(rgb_image):\n",
    "    height=len(rgb_image)\n",
    "    width=len(rgb_image[0])\n",
    "    # TODO: Convert image to HSV color space\n",
    "    hsv = cv2.cvtColor(rgb_image, cv2.COLOR_RGB2HSV)\n",
    "    v = hsv[:,:,2]\n",
    "    lighted_pixel = 0    \n",
    "    for y in range(height):\n",
    "        for x in range(width):\n",
    "            if v[y][x]!=0:\n",
    "                lighted_pixel=lighted_pixel+1\n",
    "    return lighted_pixel\n",
    "\n",
    "\n",
    "def not_masked(rgb_image):\n",
    "    height=len(rgb_image)\n",
    "    width=len(rgb_image[0])\n",
    "    # Make a copy of the image to manipulate\n",
    "    img = np.copy(rgb_image)\n",
    "    #Convert image to HSV color space\n",
    "    hsv = cv2.cvtColor(rgb_image, cv2.COLOR_RGB2HSV)\n",
    "    v = hsv[:,:,2]\n",
    "    area = hsv.shape[0] * hsv.shape[1]\n",
    "    #Count the not-lighted pixel\n",
    "    counter = 0    \n",
    "    for y in range(height):\n",
    "        for x in range(width):\n",
    "            if v[y][x]==0:\n",
    "                counter=counter+1\n",
    "    if counter<area*0.2:\n",
    "        return True\n",
    "    else:\n",
    "        return False\n",
    "\n",
    "'''\n",
    "def crop_that_image(rgb_image,v_matrix):\n",
    "    height=len(rgb_image)-1\n",
    "    width=len(rgb_image[0])-1\n",
    "    \n",
    "    # Make a copy of the image to manipulate\n",
    "    image_crop = np.copy(rgb_image)\n",
    "\n",
    "    #Define boudaries \n",
    "    LB=UB=0\n",
    "    RB=DB=31\n",
    "    \n",
    "    #Find the left boundary\n",
    "    for x in range(width):\n",
    "        if horizontal_cut(v_matrix,x):\n",
    "            LB=x\n",
    "            break\n",
    "    #Find the right boundary\n",
    "    for x in range(width,0,-1):\n",
    "        if horizontal_cut(v_matrix,x):\n",
    "            RB=x\n",
    "            break\n",
    "    #Find upper boundary\n",
    "    for y in range(height):\n",
    "        if vertical_cut(v_matrix,y):\n",
    "            UB=y\n",
    "            break\n",
    "    #Find down(lower) boundary\n",
    "    for y in range(height,0,-1):\n",
    "        if vertical_cut(v_matrix,y):\n",
    "            DB=y\n",
    "            break\n",
    "    \n",
    "    if UB>=DB or LB>=RB:\n",
    "        LB=UB=0\n",
    "        RB=DB=0\n",
    "    \n",
    "    # Using image slicing, subtract the row_crop from top/bottom and col_crop from left/right\n",
    "    image_crop = rgb_image[UB:DB, LB:RB, :]\n",
    "    return image_crop\n",
    "\n",
    "\n",
    "\n",
    "def horizontal_cut(matrix,X):\n",
    "    height=len(matrix)-1\n",
    "    maxstreak=0\n",
    "    index=0\n",
    "    streak=0\n",
    "    while index<height:\n",
    "        if matrix[index][X]==0:\n",
    "            streak=streak+1\n",
    "            index=index+1\n",
    "        else:\n",
    "            maxstreak=max(maxstreak,streak)\n",
    "            streak=0\n",
    "            index=index+1\n",
    "    if maxstreak>13:\n",
    "        return True\n",
    "    else:\n",
    "        return False\n",
    "    \n",
    "    \n",
    "def vertical_cut(matrix,Y):\n",
    "    width=len(matrix[0])-1\n",
    "    maxstreak=0\n",
    "    index=0\n",
    "    streak=0\n",
    "    while index<width:\n",
    "        if matrix[Y][index]==0:\n",
    "            streak=streak+1\n",
    "            index=index+1\n",
    "        else:\n",
    "            maxstreak=max(maxstreak,streak)\n",
    "            streak=0\n",
    "            index=index+1\n",
    "    if maxstreak>10:\n",
    "        return True\n",
    "    else:\n",
    "        return False\n",
    "    \n",
    "    \n",
    "def properly_cropped(rgb_image):\n",
    "    ans = True\n",
    "    height=len(rgb_image)\n",
    "    width=len(rgb_image[0])\n",
    "    if height<15 or width<12:\n",
    "        ans= False\n",
    "    \n",
    "    area=height*width\n",
    "    lighted_pixel_counter=0\n",
    "    #Check if the masked area is more than 50%\n",
    "    for y in range(height):\n",
    "        for x in range(width):\n",
    "            if v[y][x]!=0:\n",
    "                lighted_pixel_counter=lighted_pixel_counter+1\n",
    "    if lighted_pixel_counter/area >0.5:\n",
    "        ans= False\n",
    "    return ans\n",
    "\n",
    "\n",
    "def check_color(rgb_image):\n",
    "    #Since yellow is vague, just put it as a default\n",
    "    color=['yellow']\n",
    "    height=len(rgb_image)\n",
    "    width=len(rgb_image[0])\n",
    "    \n",
    "    \n",
    "    # Make a copy of the image to manipulate\n",
    "    image_crop = np.copy(rgb_image)\n",
    "    #Convert rgb into hsv\n",
    "    hsv = cv2.cvtColor(rgb_image, cv2.COLOR_RGB2HSV)\n",
    "    #Get the value pixels\n",
    "    v = hsv[:,:,2]\n",
    "    \n",
    "    \n",
    "    #Get average RGB values\n",
    "    average_RGB = []\n",
    "    lighted_pixel = []    \n",
    "    for y in range(height):\n",
    "        for x in range(width):\n",
    "            if v[y][x]!=0:\n",
    "                lighted_pixel.append(image_crop[y][x])\n",
    "                \n",
    "    average_RGB = np.average(lighted_pixel, axis=0)\n",
    "    if type(average_RGB)!=list:\n",
    "        return ['red']\n",
    "    \n",
    "    aveR=average_RGB[0]\n",
    "    aveG=average_RGB[1]\n",
    "    aveB=average_RGB[2]\n",
    "    \n",
    "    if aveR>200:\n",
    "        color.append('red')\n",
    "    if aveG>200:\n",
    "        color.append('green')\n",
    "        \n",
    "    return color\n",
    "'''"
   ]
  },
  {
   "cell_type": "markdown",
   "metadata": {},
   "source": [
    "## (QUESTION 1): How do the features you made help you distinguish between the 3 classes of traffic light images?"
   ]
  },
  {
   "cell_type": "markdown",
   "metadata": {},
   "source": [
    "**Answer:**\n",
    "Write your answer in this cell."
   ]
  },
  {
   "cell_type": "markdown",
   "metadata": {
    "collapsed": true
   },
   "source": [
    "# 4. Classification and Visualizing Error\n",
    "\n",
    "Using all of your features, write a function that takes in an RGB image and, using your extracted features, outputs whether a light is red, green or yellow as a one-hot encoded label. This classification function should be able to classify any image of a traffic light!\n",
    "\n",
    "You are encouraged to write any helper functions or visualization code that you may need, but for testing the accuracy, make sure that this `estimate_label` function returns a one-hot encoded label."
   ]
  },
  {
   "cell_type": "markdown",
   "metadata": {},
   "source": [
    "---\n",
    "<a id='task8'></a>\n",
    "### (IMPLEMENTATION): Build a complete classifier "
   ]
  },
  {
   "cell_type": "code",
   "execution_count": 83,
   "metadata": {},
   "outputs": [
    {
     "data": {
      "text/plain": [
       "[1, 0, 0]"
      ]
     },
     "execution_count": 83,
     "metadata": {},
     "output_type": "execute_result"
    }
   ],
   "source": [
    "# This function should take in RGB image input\n",
    "# Analyze that image using your feature creation code and output a one-hot encoded label\n",
    "def estimate_label(rgb_image):\n",
    "    \n",
    "    ## TODO: Extract feature(s) from the RGB image and use those features to\n",
    "    ## classify the image and output a one-hot encoded label\n",
    "    predicted_label=[]\n",
    "    predicted_label=one_hot_encode(create_feature(rgb_image))\n",
    "    return predicted_label   \n",
    "estimate_label(STANDARDIZED_LIST[11][0])"
   ]
  },
  {
   "cell_type": "markdown",
   "metadata": {},
   "source": [
    "## Testing the classifier\n",
    "\n",
    "Here is where we test your classification algorithm using our test set of data that we set aside at the beginning of the notebook! This project will be complete once you've pogrammed a \"good\" classifier.\n",
    "\n",
    "A \"good\" classifier in this case should meet the following criteria (and once it does, feel free to submit your project):\n",
    "1. Get above 90% classification accuracy.\n",
    "2. Never classify a red light as a green light. \n",
    "\n",
    "### Test dataset\n",
    "\n",
    "Below, we load in the test dataset, standardize it using the `standardize` function you defined above, and then **shuffle** it; this ensures that order will not play a role in testing accuracy.\n"
   ]
  },
  {
   "cell_type": "code",
   "execution_count": 84,
   "metadata": {},
   "outputs": [],
   "source": [
    "# Using the load_dataset function in helpers.py\n",
    "# Load test data\n",
    "TEST_IMAGE_LIST = helpers.load_dataset(IMAGE_DIR_TEST)\n",
    "\n",
    "# Standardize the test data\n",
    "STANDARDIZED_TEST_LIST = standardize(TEST_IMAGE_LIST)\n",
    "\n",
    "# Shuffle the standardized test data\n",
    "random.shuffle(STANDARDIZED_TEST_LIST)"
   ]
  },
  {
   "cell_type": "markdown",
   "metadata": {},
   "source": [
    "## Determine the Accuracy\n",
    "\n",
    "Compare the output of your classification algorithm (a.k.a. your \"model\") with the true labels and determine the accuracy.\n",
    "\n",
    "This code stores all the misclassified images, their predicted labels, and their true labels, in a list called `MISCLASSIFIED`. This code is used for testing and *should not be changed*."
   ]
  },
  {
   "cell_type": "code",
   "execution_count": 85,
   "metadata": {},
   "outputs": [
    {
     "name": "stdout",
     "output_type": "stream",
     "text": [
      "Accuracy: 0.9326599326599326\n",
      "Number of misclassified images = 20 out of 297\n"
     ]
    }
   ],
   "source": [
    "# Constructs a list of misclassified images given a list of test images and their labels\n",
    "# This will throw an AssertionError if labels are not standardized (one-hot encoded)\n",
    "\n",
    "def get_misclassified_images(test_images):\n",
    "    # Track misclassified images by placing them into a list\n",
    "    misclassified_images_labels = []\n",
    "\n",
    "    # Iterate through all the test images\n",
    "    # Classify each image and compare to the true label\n",
    "    for image in test_images:\n",
    "\n",
    "        # Get true data\n",
    "        im = image[0]\n",
    "        true_label = image[1]\n",
    "        assert(len(true_label) == 3), \"The true_label is not the expected length (3).\"\n",
    "\n",
    "        # Get predicted label from your classifier\n",
    "        predicted_label = estimate_label(im)\n",
    "        assert(len(predicted_label) == 3), \"The predicted_label is not the expected length (3).\"\n",
    "\n",
    "        # Compare true and predicted labels \n",
    "        if(predicted_label != true_label):\n",
    "            # If these labels are not equal, the image has been misclassified\n",
    "            misclassified_images_labels.append((im, predicted_label, true_label))\n",
    "            \n",
    "    # Return the list of misclassified [image, predicted_label, true_label] values\n",
    "    return misclassified_images_labels\n",
    "\n",
    "\n",
    "# Find all misclassified images in a given test set\n",
    "MISCLASSIFIED = get_misclassified_images(STANDARDIZED_TEST_LIST)\n",
    "\n",
    "# Accuracy calculations\n",
    "total = len(STANDARDIZED_TEST_LIST)\n",
    "num_correct = total - len(MISCLASSIFIED)\n",
    "accuracy = num_correct/total\n",
    "\n",
    "print('Accuracy: ' + str(accuracy))\n",
    "print(\"Number of misclassified images = \" + str(len(MISCLASSIFIED)) +' out of '+ str(total))\n"
   ]
  },
  {
   "cell_type": "markdown",
   "metadata": {},
   "source": [
    "---\n",
    "<a id='task9'></a>\n",
    "### Visualize the misclassified images\n",
    "\n",
    "Visualize some of the images you classified wrong (in the `MISCLASSIFIED` list) and note any qualities that make them difficult to classify. This will help you identify any weaknesses in your classification algorithm."
   ]
  },
  {
   "cell_type": "code",
   "execution_count": 86,
   "metadata": {},
   "outputs": [
    {
     "name": "stdout",
     "output_type": "stream",
     "text": [
      "[1, 0, 0]\n"
     ]
    },
    {
     "data": {
      "image/png": "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\n",
      "text/plain": [
       "<matplotlib.figure.Figure at 0x7f58215e7ba8>"
      ]
     },
     "metadata": {
      "needs_background": "light"
     },
     "output_type": "display_data"
    }
   ],
   "source": [
    "# Visualize misclassified example(s)\n",
    "## TODO: Display an image in the `MISCLASSIFIED` list \n",
    "'''\n",
    "for i in MISCLASSIFIED:\n",
    "    print(i[2])\n",
    "'''\n",
    "n = 5\n",
    "plt.imshow(MISCLASSIFIED[n][0])\n",
    "print(MISCLASSIFIED[n][1])\n",
    "\n",
    "## TODO: Print out its predicted label - to see what the image *was* incorrectly classified as\n"
   ]
  },
  {
   "cell_type": "markdown",
   "metadata": {},
   "source": [
    "---\n",
    "<a id='question2'></a>\n",
    "## (Question 2): After visualizing these misclassifications, what weaknesses do you think your classification algorithm has? Please note at least two."
   ]
  },
  {
   "cell_type": "markdown",
   "metadata": {},
   "source": [
    "**Answer:** Write your answer in this cell."
   ]
  },
  {
   "cell_type": "markdown",
   "metadata": {},
   "source": [
    "## Test if you classify any red lights as green\n",
    "\n",
    "**To pass this project, you must not classify any red lights as green!** Classifying red lights as green would cause a car to drive through a red traffic light, so this red-as-green error is very dangerous in the real world. \n",
    "\n",
    "The code below lets you test to see if you've misclassified any red lights as green in the test set. **This test assumes that `MISCLASSIFIED` is a list of tuples with the order: [misclassified_image, predicted_label, true_label].**\n",
    "\n",
    "Note: this is not an all encompassing test, but its a good indicator that, if you pass, you are on the right track! This iterates through your list of misclassified examples and checks to see if any red traffic lights have been mistakenly labelled [0, 1, 0] (green)."
   ]
  },
  {
   "cell_type": "code",
   "execution_count": 87,
   "metadata": {},
   "outputs": [
    {
     "data": {
      "text/markdown": [
       "**<span style=\"color: green;\">TEST PASSED</span>**"
      ],
      "text/plain": [
       "<IPython.core.display.Markdown object>"
      ]
     },
     "metadata": {},
     "output_type": "display_data"
    }
   ],
   "source": [
    "# Importing the tests\n",
    "import test_functions\n",
    "tests = test_functions.Tests()\n",
    "\n",
    "if(len(MISCLASSIFIED) > 0):\n",
    "    # Test code for one_hot_encode function\n",
    "    tests.test_red_as_green(MISCLASSIFIED)\n",
    "else:\n",
    "    print(\"MISCLASSIFIED may not have been populated with images.\")\n"
   ]
  },
  {
   "cell_type": "markdown",
   "metadata": {},
   "source": [
    "# 5. Improve your algorithm!\n",
    "\n",
    "**Submit your project after you have completed all implementations, answered all questions, AND when you've met the two criteria:**\n",
    "1. Greater than 90% accuracy classification\n",
    "2. No red lights classified as green\n",
    "\n",
    "If you did not meet these requirements (which is common on the first attempt!), revisit your algorithm and tweak it to improve light recognition -- this could mean changing the brightness feature, performing some background subtraction, or adding another feature!\n",
    "\n",
    "---"
   ]
  },
  {
   "cell_type": "markdown",
   "metadata": {
    "collapsed": true
   },
   "source": [
    "### Going Further (Optional Challenges)\n",
    "\n",
    "If you found this challenge easy, I suggest you go above and beyond! Here are a couple **optional** (meaning you do not need to implement these to submit and pass the project) suggestions:\n",
    "* (Optional) Aim for >95% classification accuracy.\n",
    "* (Optional) Some lights are in the shape of arrows; further classify the lights as round or arrow-shaped.\n",
    "* (Optional) Add another feature and aim for as close to 100% accuracy as you can get!"
   ]
  },
  {
   "cell_type": "code",
   "execution_count": null,
   "metadata": {
    "collapsed": true
   },
   "outputs": [],
   "source": []
  }
 ],
 "metadata": {
  "anaconda-cloud": {},
  "kernelspec": {
   "display_name": "Python 3",
   "language": "python",
   "name": "python3"
  },
  "language_info": {
   "codemirror_mode": {
    "name": "ipython",
    "version": 3
   },
   "file_extension": ".py",
   "mimetype": "text/x-python",
   "name": "python",
   "nbconvert_exporter": "python",
   "pygments_lexer": "ipython3",
   "version": "3.6.3"
  }
 },
 "nbformat": 4,
 "nbformat_minor": 2
}
